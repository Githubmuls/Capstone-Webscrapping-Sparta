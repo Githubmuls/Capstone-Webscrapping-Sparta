{
 "cells": [
  {
   "cell_type": "markdown",
   "metadata": {},
   "source": [
    "# Capstone Webscrapping using BeautifulSoup\n",
    "\n",
    "### Penyelesaian project oleh *MULATUA HASIHOLAN\n",
    "\n",
    "\n",
    "## Background\n",
    "\n",
    "Menggunanakan sumber data film yang rilis di tahun 2021 pada URL berikut: `https://www.imdb.com/search/title/?release_date=2021-01-01,2021-12-31`\n",
    "\n",
    "Saya akan melakukan dua objektif sebagai berikut:\n",
    "\n",
    "    * Mengambil data judul, imdb rating , metascore, dan votes\n",
    "    * Membuat plot dari 7 film paling populer di tahun 2021.\n",
    "\n",
    "\n",
    "## Requesting the Data and Creating a BeautifulSoup\n",
    "\n",
    "Let's begin with requesting the web from the site with `get` method."
   ]
  },
  {
   "cell_type": "code",
   "execution_count": 1,
   "metadata": {
    "ExecuteTime": {
     "end_time": "2020-01-13T05:12:23.275508Z",
     "start_time": "2020-01-13T05:12:20.009898Z"
    }
   },
   "outputs": [],
   "source": [
    "import requests\n",
    "\n",
    "url_get = requests.get('https://www.imdb.com/search/title/?release_date=2021-01-01,2021-12-31')"
   ]
  },
  {
   "cell_type": "markdown",
   "metadata": {},
   "source": [
    "To visualize what exactly you get from the `request.get`, we can use .content so ee what we exactly get, in here i slice it so it won't make our screen full of the html we get from the page. You can delete the slicing if you want to see what we fully get."
   ]
  },
  {
   "cell_type": "code",
   "execution_count": 2,
   "metadata": {
    "ExecuteTime": {
     "end_time": "2020-01-13T05:12:23.290648Z",
     "start_time": "2020-01-13T05:12:23.277650Z"
    }
   },
   "outputs": [
    {
     "data": {
      "text/plain": [
       "b'\\n<!DOCTYPE html>\\n<html\\n    xmlns:og=\"http://ogp.me/ns#\"\\n    xmlns:fb=\"http://www.facebook.com/2008/fbml\">\\n    <head>\\n         \\n\\n        <meta charset=\"utf-8\">\\n        <meta http-equiv=\"X-UA-Compatible\" content=\"IE=edge\">\\n\\n\\n\\n\\n        <script type=\"text/javascript\">var IMDbTimer={starttime: new Date().getTime(),pt:\\'java\\'};</script>\\n\\n<script>\\n    if (typeof uet == \\'function\\') {\\n      uet(\"bb\", \"LoadTitle\", {wb: 1});\\n    }\\n</script>\\n  <script>(function(t){ (t.events = t.events || {})[\"csm_head_pre_'"
      ]
     },
     "execution_count": 2,
     "metadata": {},
     "output_type": "execute_result"
    }
   ],
   "source": [
    "url_get.content[1:500]"
   ]
  },
  {
   "cell_type": "markdown",
   "metadata": {},
   "source": [
    "As we can see we get a very unstructured and complex html, which actually contains the codes needed to show the webpages on your web browser. But we as human still confused what and where we can use that piece of code, so here where we use the beautifulsoup. Beautiful soup class will result a beautifulsoup object. Beautiful Soup transforms a complex HTML document into a complex tree of Python objects. \n",
    "\n",
    "Let's make Beautiful soup object and feel free to explore the object here."
   ]
  },
  {
   "cell_type": "code",
   "execution_count": 3,
   "metadata": {
    "ExecuteTime": {
     "end_time": "2020-01-13T05:12:23.808122Z",
     "start_time": "2020-01-13T05:12:23.292610Z"
    }
   },
   "outputs": [],
   "source": [
    "from bs4 import BeautifulSoup \n",
    "\n",
    "soup = BeautifulSoup(url_get.content,\"html.parser\")"
   ]
  },
  {
   "cell_type": "markdown",
   "metadata": {},
   "source": [
    "## Finding the right key to scrap the data & Extracting the right information"
   ]
  },
  {
   "cell_type": "markdown",
   "metadata": {},
   "source": [
    "Find the key and put the key into the `.find()` Put all the exploring the right key at this cell. (please change this markdown with your explanation)"
   ]
  },
  {
   "cell_type": "code",
   "execution_count": 4,
   "metadata": {
    "ExecuteTime": {
     "end_time": "2020-01-13T05:12:23.878904Z",
     "start_time": "2020-01-13T05:12:23.854974Z"
    },
    "scrolled": true
   },
   "outputs": [
    {
     "name": "stdout",
     "output_type": "stream",
     "text": [
      "div class=\"lister-list\">\n",
      " <div class=\"lister-item mode-advanced\">\n",
      "  <div class=\"lister-top-right\">\n",
      "   <div class=\"ribbonize\" data-caller=\"filmosearch\" data-tconst=\"tt7144666\">\n",
      "   </div>\n",
      "  </div>\n",
      "  <div class=\"lister-item-image float-left\">\n",
      "   <a href=\"/title/tt7144666/\">\n",
      "    <img alt=\"The Black Phone\" class=\"loadlate\" data-tconst=\"tt7144666\" height=\"98\" loadlate=\"https://m.media-amazon.com/images/M/MV5BOWVmNTBiYTUtZWQ3Yi00ZDlhLTgyYjUtNzBhZjM3YjRiNGRkXkEyXkFqcGdeQXVyNzYyOTM1ODI@._V1_UX67_CR0,0,6\n"
     ]
    }
   ],
   "source": [
    "table = soup.find('div', attrs={'class': 'lister-list'})\n",
    "print(table.prettify()[1:500])"
   ]
  },
  {
   "cell_type": "markdown",
   "metadata": {},
   "source": [
    "#### Melakukan pendalaman terhadap sumber data untuk mencari kata kunci yang akan digunakan untuk scrap data nantinya"
   ]
  },
  {
   "cell_type": "code",
   "execution_count": 5,
   "metadata": {},
   "outputs": [
    {
     "data": {
      "text/plain": [
       "50"
      ]
     },
     "execution_count": 5,
     "metadata": {},
     "output_type": "execute_result"
    }
   ],
   "source": [
    "#Mendalami sumber data untuk mencari kunci yang tepat (secara jumlah)\n",
    "drill_down = table.find_all('div', attrs={'class':'lister-item mode-advanced'})\n",
    "row_length = len(drill_down)\n",
    "row_length"
   ]
  },
  {
   "cell_type": "code",
   "execution_count": 6,
   "metadata": {
    "scrolled": true
   },
   "outputs": [
    {
     "data": {
      "text/plain": [
       "<div class=\"lister-item mode-advanced\">\n",
       "<div class=\"lister-top-right\">\n",
       "<div class=\"ribbonize\" data-caller=\"filmosearch\" data-tconst=\"tt7144666\"></div>\n",
       "</div>\n",
       "<div class=\"lister-item-image float-left\">\n",
       "<a href=\"/title/tt7144666/\"> <img alt=\"The Black Phone\" class=\"loadlate\" data-tconst=\"tt7144666\" height=\"98\" loadlate=\"https://m.media-amazon.com/images/M/MV5BOWVmNTBiYTUtZWQ3Yi00ZDlhLTgyYjUtNzBhZjM3YjRiNGRkXkEyXkFqcGdeQXVyNzYyOTM1ODI@._V1_UX67_CR0,0,67,98_AL_.jpg\" src=\"https://m.media-amazon.com/images/S/sash/4FyxwxECzL-U1J8.png\" width=\"67\"/>\n",
       "</a> </div>\n",
       "<div class=\"lister-item-content\">\n",
       "<h3 class=\"lister-item-header\">\n",
       "<span class=\"lister-item-index unbold text-primary\">1.</span>\n",
       "<a href=\"/title/tt7144666/\">The Black Phone</a>\n",
       "<span class=\"lister-item-year text-muted unbold\">(2021)</span>\n",
       "</h3>\n",
       "<p class=\"text-muted\">\n",
       "<span class=\"certificate\">17+</span>\n",
       "<span class=\"ghost\">|</span>\n",
       "<span class=\"runtime\">103 min</span>\n",
       "<span class=\"ghost\">|</span>\n",
       "<span class=\"genre\">\n",
       "Horror, Thriller            </span>\n",
       "</p>\n",
       "<div class=\"ratings-bar\">\n",
       "<div class=\"inline-block ratings-imdb-rating\" data-value=\"7.3\" name=\"ir\">\n",
       "<span class=\"global-sprite rating-star imdb-rating\"></span>\n",
       "<strong>7.3</strong>\n",
       "</div>\n",
       "<div class=\"inline-block ratings-user-rating\">\n",
       "<span class=\"userRatingValue\" data-tconst=\"tt7144666\" id=\"urv_tt7144666\">\n",
       "<span class=\"global-sprite rating-star no-rating\"></span>\n",
       "<span class=\"rate\" data-no-rating=\"Rate this\" data-value=\"0\" name=\"ur\">Rate this</span>\n",
       "</span>\n",
       "<div class=\"starBarWidget\" id=\"sb_tt7144666\">\n",
       "<div class=\"rating rating-list\" data-csrf-token=\"\" data-ga-identifier=\"\" data-starbar-class=\"rating-list\" data-user=\"\" id=\"tt7144666|imdb|7.3|7.3|adv_li_tt||advsearch|title\" itemprop=\"aggregateRating\" itemscope=\"\" itemtype=\"http://schema.org/AggregateRating\" title=\"Users rated this 7.3/10 (23,638 votes) - click stars to rate\">\n",
       "<meta content=\"7.3\" itemprop=\"ratingValue\"/>\n",
       "<meta content=\"10\" itemprop=\"bestRating\"/>\n",
       "<meta content=\"23638\" itemprop=\"ratingCount\"/>\n",
       "<span class=\"rating-bg\"> </span>\n",
       "<span class=\"rating-imdb\" style=\"width: 102.2px\"> </span>\n",
       "<span class=\"rating-stars\">\n",
       "<a href=\"/register/login?why=vote\" rel=\"nofollow\" title=\"Register or login to rate this title\"><span>1</span></a>\n",
       "<a href=\"/register/login?why=vote\" rel=\"nofollow\" title=\"Register or login to rate this title\"><span>2</span></a>\n",
       "<a href=\"/register/login?why=vote\" rel=\"nofollow\" title=\"Register or login to rate this title\"><span>3</span></a>\n",
       "<a href=\"/register/login?why=vote\" rel=\"nofollow\" title=\"Register or login to rate this title\"><span>4</span></a>\n",
       "<a href=\"/register/login?why=vote\" rel=\"nofollow\" title=\"Register or login to rate this title\"><span>5</span></a>\n",
       "<a href=\"/register/login?why=vote\" rel=\"nofollow\" title=\"Register or login to rate this title\"><span>6</span></a>\n",
       "<a href=\"/register/login?why=vote\" rel=\"nofollow\" title=\"Register or login to rate this title\"><span>7</span></a>\n",
       "<a href=\"/register/login?why=vote\" rel=\"nofollow\" title=\"Register or login to rate this title\"><span>8</span></a>\n",
       "<a href=\"/register/login?why=vote\" rel=\"nofollow\" title=\"Register or login to rate this title\"><span>9</span></a>\n",
       "<a href=\"/register/login?why=vote\" rel=\"nofollow\" title=\"Register or login to rate this title\"><span>10</span></a>\n",
       "</span>\n",
       "<span class=\"rating-rating\"><span class=\"value\">7.3</span><span class=\"grey\">/</span><span class=\"grey\">10</span></span>\n",
       "<span class=\"rating-cancel\"><a href=\"/title/tt7144666/vote\" rel=\"nofollow\" title=\"Delete\"><span>X</span></a></span>\n",
       " </div>\n",
       "</div>\n",
       "</div>\n",
       "<div class=\"inline-block ratings-metascore\">\n",
       "<span class=\"metascore favorable\">65        </span>\n",
       "        Metascore\n",
       "            </div>\n",
       "</div>\n",
       "<p class=\"text-muted\">\n",
       "After being abducted by a child killer and locked in a soundproof basement, a 13-year-old boy starts receiving calls on a disconnected phone from the killer's previous victims.</p>\n",
       "<p class=\"\">\n",
       "    Director:\n",
       "<a href=\"/name/nm0220600/\">Scott Derrickson</a>\n",
       "<span class=\"ghost\">|</span> \n",
       "    Stars:\n",
       "<a href=\"/name/nm9296746/\">Mason Thames</a>, \n",
       "<a href=\"/name/nm6421259/\">Madeleine McGraw</a>, \n",
       "<a href=\"/name/nm0000160/\">Ethan Hawke</a>, \n",
       "<a href=\"/name/nm0001111/\">Jeremy Davies</a>\n",
       "</p>\n",
       "<p class=\"sort-num_votes-visible\">\n",
       "<span class=\"text-muted\">Votes:</span>\n",
       "<span data-value=\"23638\" name=\"nv\">23,638</span>\n",
       "</p>\n",
       "</div>\n",
       "</div>"
      ]
     },
     "execution_count": 6,
     "metadata": {},
     "output_type": "execute_result"
    }
   ],
   "source": [
    "#Mendalami sumber data untuk mencari kunci yang tepat (kata kunci)\n",
    "drill_down[0]"
   ]
  },
  {
   "cell_type": "markdown",
   "metadata": {},
   "source": [
    "#### Dilanjutkan dengan melakukan penggunaan kata kunci terhadap sumber data untuk mmenarik data sesuai dengan variabel-variabel yang dibutuhkan"
   ]
  },
  {
   "cell_type": "markdown",
   "metadata": {},
   "source": [
    "### Variabel Judul"
   ]
  },
  {
   "cell_type": "code",
   "execution_count": 7,
   "metadata": {
    "scrolled": true
   },
   "outputs": [
    {
     "data": {
      "text/plain": [
       "50"
      ]
     },
     "execution_count": 7,
     "metadata": {},
     "output_type": "execute_result"
    }
   ],
   "source": [
    "#Cek jumlah output untuk Judul dan Tahun\n",
    "title_year = table.find_all('h3', attrs={'class':'lister-item-header'})\n",
    "row_length = len(title_year)\n",
    "row_length"
   ]
  },
  {
   "cell_type": "code",
   "execution_count": 8,
   "metadata": {},
   "outputs": [
    {
     "data": {
      "text/plain": [
       "<h3 class=\"lister-item-header\">\n",
       "<span class=\"lister-item-index unbold text-primary\">1.</span>\n",
       "<a href=\"/title/tt7144666/\">The Black Phone</a>\n",
       "<span class=\"lister-item-year text-muted unbold\">(2021)</span>\n",
       "</h3>"
      ]
     },
     "execution_count": 8,
     "metadata": {},
     "output_type": "execute_result"
    }
   ],
   "source": [
    "#Cek isi output untuk Judul dan Tahun\n",
    "title_year[0]"
   ]
  },
  {
   "cell_type": "code",
   "execution_count": 9,
   "metadata": {
    "scrolled": false
   },
   "outputs": [
    {
     "data": {
      "text/plain": [
       "'\\n1.\\nThe Black Phone\\n(2021)\\n'"
      ]
     },
     "execution_count": 9,
     "metadata": {},
     "output_type": "execute_result"
    }
   ],
   "source": [
    "#Cek output untuk Judul dan Tahun dalam bentuk teks\n",
    "title_year = table.find_all('h3', attrs={'class':'lister-item-header'})[0].text\n",
    "title_year"
   ]
  },
  {
   "cell_type": "markdown",
   "metadata": {},
   "source": [
    "### Variabel Ratings"
   ]
  },
  {
   "cell_type": "code",
   "execution_count": 10,
   "metadata": {},
   "outputs": [
    {
     "data": {
      "text/plain": [
       "'7.3'"
      ]
     },
     "execution_count": 10,
     "metadata": {},
     "output_type": "execute_result"
    }
   ],
   "source": [
    "#Cek output untuk ratings dalam bentuk teks\n",
    "ratings = table.find_all('strong')[0].text\n",
    "ratings"
   ]
  },
  {
   "cell_type": "code",
   "execution_count": 11,
   "metadata": {
    "scrolled": true
   },
   "outputs": [
    {
     "data": {
      "text/plain": [
       "50"
      ]
     },
     "execution_count": 11,
     "metadata": {},
     "output_type": "execute_result"
    }
   ],
   "source": [
    "#Cek jumlah output untuk rating\n",
    "ratings = table.find_all('strong')\n",
    "row_length_ratings = len(ratings)\n",
    "row_length_ratings"
   ]
  },
  {
   "cell_type": "markdown",
   "metadata": {},
   "source": [
    "### Variabel Metascore"
   ]
  },
  {
   "cell_type": "code",
   "execution_count": 12,
   "metadata": {},
   "outputs": [
    {
     "data": {
      "text/plain": [
       "'65        '"
      ]
     },
     "execution_count": 12,
     "metadata": {},
     "output_type": "execute_result"
    }
   ],
   "source": [
    "#Cek output untuk metascore dalam bentuk teks\n",
    "metascore = table.find_all('span', attrs={'class':('metascore favorable', 'metascore mixed', 'metascore unfavorable')})[0].text\n",
    "metascore"
   ]
  },
  {
   "cell_type": "code",
   "execution_count": 13,
   "metadata": {},
   "outputs": [
    {
     "data": {
      "text/plain": [
       "32"
      ]
     },
     "execution_count": 13,
     "metadata": {},
     "output_type": "execute_result"
    }
   ],
   "source": [
    "#Cek jumlah output untuk metascore\n",
    "metascore = table.find_all('span', attrs={'class':('metascore favorable', 'metascore mixed', 'metascore unfavorable')})\n",
    "row_length_metascore = len(metascore)\n",
    "row_length_metascore"
   ]
  },
  {
   "cell_type": "markdown",
   "metadata": {},
   "source": [
    "### Variabel Votes"
   ]
  },
  {
   "cell_type": "code",
   "execution_count": 14,
   "metadata": {},
   "outputs": [
    {
     "data": {
      "text/plain": [
       "'\\nVotes:\\n23,638\\n'"
      ]
     },
     "execution_count": 14,
     "metadata": {},
     "output_type": "execute_result"
    }
   ],
   "source": [
    "#Cek output untuk votes dalam bentuk teks\n",
    "votes = table.find_all('p', attrs={'class': 'sort-num_votes-visible'})[0].text\n",
    "votes"
   ]
  },
  {
   "cell_type": "code",
   "execution_count": 15,
   "metadata": {},
   "outputs": [
    {
     "data": {
      "text/plain": [
       "50"
      ]
     },
     "execution_count": 15,
     "metadata": {},
     "output_type": "execute_result"
    }
   ],
   "source": [
    "#Cek jumlah output untuk rating\n",
    "votes = table.find_all('p', attrs={'class': 'sort-num_votes-visible'})\n",
    "row_length_votes = len(votes)\n",
    "row_length_votes"
   ]
  },
  {
   "cell_type": "markdown",
   "metadata": {},
   "source": [
    "#### Setelah seluruh varibel sudah dipastikan dapat ditarik datanya, dilakukan pengumpulan dan penarikan data untuk variabel judul, rating, dan votes terlebih dahulu:"
   ]
  },
  {
   "cell_type": "code",
   "execution_count": 16,
   "metadata": {
    "ExecuteTime": {
     "end_time": "2020-01-13T05:12:24.008256Z",
     "start_time": "2020-01-13T05:12:23.980358Z"
    }
   },
   "outputs": [
    {
     "data": {
      "text/plain": [
       "[('The Black Phone', '7.3', '23,638'),\n",
       " ('Only Murders in the Building', '8.1', '73,466'),\n",
       " ('Sing 2', '7.4', '55,513'),\n",
       " ('Spider-Man: No Way Home', '8.3', '672,785'),\n",
       " ('1883', '8.8', '56,031'),\n",
       " ('No Time to Die', '7.3', '372,829'),\n",
       " ('Superman & Lois', '7.8', '30,538'),\n",
       " ('Last Night in Soho', '7.1', '113,025'),\n",
       " ('Hacks', '8.2', '25,151'),\n",
       " ('Dune: Part One', '8.0', '587,813'),\n",
       " ('Ghostbusters: Afterlife', '7.1', '161,888'),\n",
       " ('Mad God', '6.8', '4,639'),\n",
       " ('The Book of Boba Fett', '7.3', '133,763'),\n",
       " (\"You Don't Know Me\", '6.8', '3,916'),\n",
       " ('WandaVision', '7.9', '301,220'),\n",
       " ('Pleasure', '6.3', '12,167'),\n",
       " ('Old', '5.8', '109,318'),\n",
       " ('Eternals', '6.3', '318,232'),\n",
       " ('Invincible', '8.7', '121,073'),\n",
       " ('House of Gucci', '6.6', '110,717'),\n",
       " ('Resident Evil: Welcome to Raccoon City', '5.2', '46,919'),\n",
       " ('Licorice Pizza', '7.3', '88,999'),\n",
       " ('Ojing-eo geim', '8.0', '424,858'),\n",
       " ('Verdens verste menneske', '7.9', '50,606'),\n",
       " ('Free Guy', '7.1', '348,746'),\n",
       " ('Encanto', '7.2', '205,295'),\n",
       " ('Yellowjackets', '7.9', '40,082'),\n",
       " ('Arcane: League of Legends', '9.0', '184,450'),\n",
       " ('Loki', '8.2', '291,035'),\n",
       " ('The Card Counter', '6.2', '29,178'),\n",
       " ('The Matrix Resurrections', '5.7', '234,148'),\n",
       " ('Operation Mincemeat', '6.6', '17,506'),\n",
       " ('Shang-Chi and the Legend of the Ten Rings', '7.4', '360,957'),\n",
       " (\"The King's Man\", '6.3', '133,361'),\n",
       " ('Marcel the Shell with Shoes On', '8.2', '629'),\n",
       " (\"Don't Look Up\", '7.2', '512,231'),\n",
       " ('Walker', '5.9', '11,118'),\n",
       " ('The Outlaws', '7.6', '8,942'),\n",
       " ('The Suicide Squad', '7.2', '334,792'),\n",
       " ('The French Dispatch', '7.2', '110,700'),\n",
       " ('CODA', '8.0', '116,268'),\n",
       " ('Nightmare Alley', '7.0', '129,516'),\n",
       " ('Dopesick', '8.6', '48,884'),\n",
       " ('Joe Pickett', '7.5', '1,910'),\n",
       " ('The Last Duel', '7.4', '145,074'),\n",
       " ('Physical', '7.3', '8,227'),\n",
       " ('The Wheel of Time', '7.1', '96,817'),\n",
       " ('Red Notice', '6.3', '262,425'),\n",
       " ('Wrath of Man', '7.1', '166,600'),\n",
       " ('Venom: Let There Be Carnage', '5.9', '209,469')]"
      ]
     },
     "execution_count": 16,
     "metadata": {},
     "output_type": "execute_result"
    }
   ],
   "source": [
    "#Mengambil data Judul, Ratings, Votes\n",
    "temp = [] #initiating a tuple\n",
    "\n",
    "for i in range(0, row_length):\n",
    "\n",
    "    #get data\n",
    "    title_year = table.find_all('h3', attrs={'class':'lister-item-header'})[i].text\n",
    "    title = title_year.split(\"\\n\")\n",
    "    \n",
    "    ratings = table.find_all('strong')[i].text\n",
    "    \n",
    "    votes = table.find_all('p', attrs={'class': 'sort-num_votes-visible'})[i].text\n",
    "    votes = votes.lstrip('\\nVotes:\\n').lstrip('\\n').split(\"\\n\")\n",
    "\n",
    "    temp.append((title[2], ratings, votes[0]))\n",
    "    \n",
    "temp"
   ]
  },
  {
   "cell_type": "markdown",
   "metadata": {},
   "source": [
    "#### Penarikan data kemudian dilanjutkan untuk variabel Metascore. Dilakukan tepisah karena untuk data ini ada perbedaan dari jumlah datanya sehingga tidak bisa dilakukan sekaligus dengan variabel-variabel sebelumnya"
   ]
  },
  {
   "cell_type": "code",
   "execution_count": 17,
   "metadata": {
    "scrolled": true
   },
   "outputs": [],
   "source": [
    "#Mengambil data Metascore\n",
    "temp_2 = [] #initiating a tuple\n",
    "\n",
    "for i in range(0, row_length_metascore):\n",
    "\n",
    "    #get data\n",
    "    metascore = table.find_all('span', attrs={'class':('metascore favorable', 'metascore mixed', 'metascore unfavorable')})[i].text\n",
    "    \n",
    "    temp_2.append(metascore[:2])"
   ]
  },
  {
   "cell_type": "markdown",
   "metadata": {},
   "source": [
    "## Creating data frame & Data wrangling"
   ]
  },
  {
   "cell_type": "markdown",
   "metadata": {},
   "source": [
    "####  variabel judul, rating, dan votes disusun ke dalam dataframe, dilanjutkan dengan manipulasi data untuk variabel metascore"
   ]
  },
  {
   "cell_type": "code",
   "execution_count": 18,
   "metadata": {
    "ExecuteTime": {
     "end_time": "2020-01-13T05:12:41.517372Z",
     "start_time": "2020-01-13T05:12:29.130015Z"
    },
    "scrolled": true
   },
   "outputs": [
    {
     "data": {
      "text/html": [
       "<div>\n",
       "<style scoped>\n",
       "    .dataframe tbody tr th:only-of-type {\n",
       "        vertical-align: middle;\n",
       "    }\n",
       "\n",
       "    .dataframe tbody tr th {\n",
       "        vertical-align: top;\n",
       "    }\n",
       "\n",
       "    .dataframe thead th {\n",
       "        text-align: right;\n",
       "    }\n",
       "</style>\n",
       "<table border=\"1\" class=\"dataframe\">\n",
       "  <thead>\n",
       "    <tr style=\"text-align: right;\">\n",
       "      <th></th>\n",
       "      <th>Title</th>\n",
       "      <th>Ratings</th>\n",
       "      <th>Votes</th>\n",
       "    </tr>\n",
       "  </thead>\n",
       "  <tbody>\n",
       "    <tr>\n",
       "      <th>0</th>\n",
       "      <td>The Black Phone</td>\n",
       "      <td>7.3</td>\n",
       "      <td>23,638</td>\n",
       "    </tr>\n",
       "    <tr>\n",
       "      <th>1</th>\n",
       "      <td>Only Murders in the Building</td>\n",
       "      <td>8.1</td>\n",
       "      <td>73,466</td>\n",
       "    </tr>\n",
       "    <tr>\n",
       "      <th>2</th>\n",
       "      <td>Sing 2</td>\n",
       "      <td>7.4</td>\n",
       "      <td>55,513</td>\n",
       "    </tr>\n",
       "    <tr>\n",
       "      <th>3</th>\n",
       "      <td>Spider-Man: No Way Home</td>\n",
       "      <td>8.3</td>\n",
       "      <td>672,785</td>\n",
       "    </tr>\n",
       "    <tr>\n",
       "      <th>4</th>\n",
       "      <td>1883</td>\n",
       "      <td>8.8</td>\n",
       "      <td>56,031</td>\n",
       "    </tr>\n",
       "    <tr>\n",
       "      <th>5</th>\n",
       "      <td>No Time to Die</td>\n",
       "      <td>7.3</td>\n",
       "      <td>372,829</td>\n",
       "    </tr>\n",
       "    <tr>\n",
       "      <th>6</th>\n",
       "      <td>Superman &amp; Lois</td>\n",
       "      <td>7.8</td>\n",
       "      <td>30,538</td>\n",
       "    </tr>\n",
       "    <tr>\n",
       "      <th>7</th>\n",
       "      <td>Last Night in Soho</td>\n",
       "      <td>7.1</td>\n",
       "      <td>113,025</td>\n",
       "    </tr>\n",
       "    <tr>\n",
       "      <th>8</th>\n",
       "      <td>Hacks</td>\n",
       "      <td>8.2</td>\n",
       "      <td>25,151</td>\n",
       "    </tr>\n",
       "    <tr>\n",
       "      <th>9</th>\n",
       "      <td>Dune: Part One</td>\n",
       "      <td>8.0</td>\n",
       "      <td>587,813</td>\n",
       "    </tr>\n",
       "    <tr>\n",
       "      <th>10</th>\n",
       "      <td>Ghostbusters: Afterlife</td>\n",
       "      <td>7.1</td>\n",
       "      <td>161,888</td>\n",
       "    </tr>\n",
       "    <tr>\n",
       "      <th>11</th>\n",
       "      <td>Mad God</td>\n",
       "      <td>6.8</td>\n",
       "      <td>4,639</td>\n",
       "    </tr>\n",
       "    <tr>\n",
       "      <th>12</th>\n",
       "      <td>The Book of Boba Fett</td>\n",
       "      <td>7.3</td>\n",
       "      <td>133,763</td>\n",
       "    </tr>\n",
       "    <tr>\n",
       "      <th>13</th>\n",
       "      <td>You Don't Know Me</td>\n",
       "      <td>6.8</td>\n",
       "      <td>3,916</td>\n",
       "    </tr>\n",
       "    <tr>\n",
       "      <th>14</th>\n",
       "      <td>WandaVision</td>\n",
       "      <td>7.9</td>\n",
       "      <td>301,220</td>\n",
       "    </tr>\n",
       "    <tr>\n",
       "      <th>15</th>\n",
       "      <td>Pleasure</td>\n",
       "      <td>6.3</td>\n",
       "      <td>12,167</td>\n",
       "    </tr>\n",
       "    <tr>\n",
       "      <th>16</th>\n",
       "      <td>Old</td>\n",
       "      <td>5.8</td>\n",
       "      <td>109,318</td>\n",
       "    </tr>\n",
       "    <tr>\n",
       "      <th>17</th>\n",
       "      <td>Eternals</td>\n",
       "      <td>6.3</td>\n",
       "      <td>318,232</td>\n",
       "    </tr>\n",
       "    <tr>\n",
       "      <th>18</th>\n",
       "      <td>Invincible</td>\n",
       "      <td>8.7</td>\n",
       "      <td>121,073</td>\n",
       "    </tr>\n",
       "    <tr>\n",
       "      <th>19</th>\n",
       "      <td>House of Gucci</td>\n",
       "      <td>6.6</td>\n",
       "      <td>110,717</td>\n",
       "    </tr>\n",
       "    <tr>\n",
       "      <th>20</th>\n",
       "      <td>Resident Evil: Welcome to Raccoon City</td>\n",
       "      <td>5.2</td>\n",
       "      <td>46,919</td>\n",
       "    </tr>\n",
       "    <tr>\n",
       "      <th>21</th>\n",
       "      <td>Licorice Pizza</td>\n",
       "      <td>7.3</td>\n",
       "      <td>88,999</td>\n",
       "    </tr>\n",
       "    <tr>\n",
       "      <th>22</th>\n",
       "      <td>Ojing-eo geim</td>\n",
       "      <td>8.0</td>\n",
       "      <td>424,858</td>\n",
       "    </tr>\n",
       "    <tr>\n",
       "      <th>23</th>\n",
       "      <td>Verdens verste menneske</td>\n",
       "      <td>7.9</td>\n",
       "      <td>50,606</td>\n",
       "    </tr>\n",
       "    <tr>\n",
       "      <th>24</th>\n",
       "      <td>Free Guy</td>\n",
       "      <td>7.1</td>\n",
       "      <td>348,746</td>\n",
       "    </tr>\n",
       "    <tr>\n",
       "      <th>25</th>\n",
       "      <td>Encanto</td>\n",
       "      <td>7.2</td>\n",
       "      <td>205,295</td>\n",
       "    </tr>\n",
       "    <tr>\n",
       "      <th>26</th>\n",
       "      <td>Yellowjackets</td>\n",
       "      <td>7.9</td>\n",
       "      <td>40,082</td>\n",
       "    </tr>\n",
       "    <tr>\n",
       "      <th>27</th>\n",
       "      <td>Arcane: League of Legends</td>\n",
       "      <td>9.0</td>\n",
       "      <td>184,450</td>\n",
       "    </tr>\n",
       "    <tr>\n",
       "      <th>28</th>\n",
       "      <td>Loki</td>\n",
       "      <td>8.2</td>\n",
       "      <td>291,035</td>\n",
       "    </tr>\n",
       "    <tr>\n",
       "      <th>29</th>\n",
       "      <td>The Card Counter</td>\n",
       "      <td>6.2</td>\n",
       "      <td>29,178</td>\n",
       "    </tr>\n",
       "    <tr>\n",
       "      <th>30</th>\n",
       "      <td>The Matrix Resurrections</td>\n",
       "      <td>5.7</td>\n",
       "      <td>234,148</td>\n",
       "    </tr>\n",
       "    <tr>\n",
       "      <th>31</th>\n",
       "      <td>Operation Mincemeat</td>\n",
       "      <td>6.6</td>\n",
       "      <td>17,506</td>\n",
       "    </tr>\n",
       "    <tr>\n",
       "      <th>32</th>\n",
       "      <td>Shang-Chi and the Legend of the Ten Rings</td>\n",
       "      <td>7.4</td>\n",
       "      <td>360,957</td>\n",
       "    </tr>\n",
       "    <tr>\n",
       "      <th>33</th>\n",
       "      <td>The King's Man</td>\n",
       "      <td>6.3</td>\n",
       "      <td>133,361</td>\n",
       "    </tr>\n",
       "    <tr>\n",
       "      <th>34</th>\n",
       "      <td>Marcel the Shell with Shoes On</td>\n",
       "      <td>8.2</td>\n",
       "      <td>629</td>\n",
       "    </tr>\n",
       "    <tr>\n",
       "      <th>35</th>\n",
       "      <td>Don't Look Up</td>\n",
       "      <td>7.2</td>\n",
       "      <td>512,231</td>\n",
       "    </tr>\n",
       "    <tr>\n",
       "      <th>36</th>\n",
       "      <td>Walker</td>\n",
       "      <td>5.9</td>\n",
       "      <td>11,118</td>\n",
       "    </tr>\n",
       "    <tr>\n",
       "      <th>37</th>\n",
       "      <td>The Outlaws</td>\n",
       "      <td>7.6</td>\n",
       "      <td>8,942</td>\n",
       "    </tr>\n",
       "    <tr>\n",
       "      <th>38</th>\n",
       "      <td>The Suicide Squad</td>\n",
       "      <td>7.2</td>\n",
       "      <td>334,792</td>\n",
       "    </tr>\n",
       "    <tr>\n",
       "      <th>39</th>\n",
       "      <td>The French Dispatch</td>\n",
       "      <td>7.2</td>\n",
       "      <td>110,700</td>\n",
       "    </tr>\n",
       "    <tr>\n",
       "      <th>40</th>\n",
       "      <td>CODA</td>\n",
       "      <td>8.0</td>\n",
       "      <td>116,268</td>\n",
       "    </tr>\n",
       "    <tr>\n",
       "      <th>41</th>\n",
       "      <td>Nightmare Alley</td>\n",
       "      <td>7.0</td>\n",
       "      <td>129,516</td>\n",
       "    </tr>\n",
       "    <tr>\n",
       "      <th>42</th>\n",
       "      <td>Dopesick</td>\n",
       "      <td>8.6</td>\n",
       "      <td>48,884</td>\n",
       "    </tr>\n",
       "    <tr>\n",
       "      <th>43</th>\n",
       "      <td>Joe Pickett</td>\n",
       "      <td>7.5</td>\n",
       "      <td>1,910</td>\n",
       "    </tr>\n",
       "    <tr>\n",
       "      <th>44</th>\n",
       "      <td>The Last Duel</td>\n",
       "      <td>7.4</td>\n",
       "      <td>145,074</td>\n",
       "    </tr>\n",
       "    <tr>\n",
       "      <th>45</th>\n",
       "      <td>Physical</td>\n",
       "      <td>7.3</td>\n",
       "      <td>8,227</td>\n",
       "    </tr>\n",
       "    <tr>\n",
       "      <th>46</th>\n",
       "      <td>The Wheel of Time</td>\n",
       "      <td>7.1</td>\n",
       "      <td>96,817</td>\n",
       "    </tr>\n",
       "    <tr>\n",
       "      <th>47</th>\n",
       "      <td>Red Notice</td>\n",
       "      <td>6.3</td>\n",
       "      <td>262,425</td>\n",
       "    </tr>\n",
       "    <tr>\n",
       "      <th>48</th>\n",
       "      <td>Wrath of Man</td>\n",
       "      <td>7.1</td>\n",
       "      <td>166,600</td>\n",
       "    </tr>\n",
       "    <tr>\n",
       "      <th>49</th>\n",
       "      <td>Venom: Let There Be Carnage</td>\n",
       "      <td>5.9</td>\n",
       "      <td>209,469</td>\n",
       "    </tr>\n",
       "  </tbody>\n",
       "</table>\n",
       "</div>"
      ],
      "text/plain": [
       "                                        Title Ratings    Votes\n",
       "0                             The Black Phone     7.3   23,638\n",
       "1                Only Murders in the Building     8.1   73,466\n",
       "2                                      Sing 2     7.4   55,513\n",
       "3                     Spider-Man: No Way Home     8.3  672,785\n",
       "4                                        1883     8.8   56,031\n",
       "5                              No Time to Die     7.3  372,829\n",
       "6                             Superman & Lois     7.8   30,538\n",
       "7                          Last Night in Soho     7.1  113,025\n",
       "8                                       Hacks     8.2   25,151\n",
       "9                              Dune: Part One     8.0  587,813\n",
       "10                    Ghostbusters: Afterlife     7.1  161,888\n",
       "11                                    Mad God     6.8    4,639\n",
       "12                      The Book of Boba Fett     7.3  133,763\n",
       "13                          You Don't Know Me     6.8    3,916\n",
       "14                                WandaVision     7.9  301,220\n",
       "15                                   Pleasure     6.3   12,167\n",
       "16                                        Old     5.8  109,318\n",
       "17                                   Eternals     6.3  318,232\n",
       "18                                 Invincible     8.7  121,073\n",
       "19                             House of Gucci     6.6  110,717\n",
       "20     Resident Evil: Welcome to Raccoon City     5.2   46,919\n",
       "21                             Licorice Pizza     7.3   88,999\n",
       "22                              Ojing-eo geim     8.0  424,858\n",
       "23                    Verdens verste menneske     7.9   50,606\n",
       "24                                   Free Guy     7.1  348,746\n",
       "25                                    Encanto     7.2  205,295\n",
       "26                              Yellowjackets     7.9   40,082\n",
       "27                  Arcane: League of Legends     9.0  184,450\n",
       "28                                       Loki     8.2  291,035\n",
       "29                           The Card Counter     6.2   29,178\n",
       "30                   The Matrix Resurrections     5.7  234,148\n",
       "31                        Operation Mincemeat     6.6   17,506\n",
       "32  Shang-Chi and the Legend of the Ten Rings     7.4  360,957\n",
       "33                             The King's Man     6.3  133,361\n",
       "34             Marcel the Shell with Shoes On     8.2      629\n",
       "35                              Don't Look Up     7.2  512,231\n",
       "36                                     Walker     5.9   11,118\n",
       "37                                The Outlaws     7.6    8,942\n",
       "38                          The Suicide Squad     7.2  334,792\n",
       "39                        The French Dispatch     7.2  110,700\n",
       "40                                       CODA     8.0  116,268\n",
       "41                            Nightmare Alley     7.0  129,516\n",
       "42                                   Dopesick     8.6   48,884\n",
       "43                                Joe Pickett     7.5    1,910\n",
       "44                              The Last Duel     7.4  145,074\n",
       "45                                   Physical     7.3    8,227\n",
       "46                          The Wheel of Time     7.1   96,817\n",
       "47                                 Red Notice     6.3  262,425\n",
       "48                               Wrath of Man     7.1  166,600\n",
       "49                Venom: Let There Be Carnage     5.9  209,469"
      ]
     },
     "execution_count": 18,
     "metadata": {},
     "output_type": "execute_result"
    }
   ],
   "source": [
    "import pandas as pd\n",
    "\n",
    "imdb_data = pd.DataFrame(temp, columns = ('Title', 'Ratings', 'Votes'))\n",
    "imdb_data"
   ]
  },
  {
   "cell_type": "code",
   "execution_count": 19,
   "metadata": {
    "scrolled": true
   },
   "outputs": [
    {
     "data": {
      "text/html": [
       "<div>\n",
       "<style scoped>\n",
       "    .dataframe tbody tr th:only-of-type {\n",
       "        vertical-align: middle;\n",
       "    }\n",
       "\n",
       "    .dataframe tbody tr th {\n",
       "        vertical-align: top;\n",
       "    }\n",
       "\n",
       "    .dataframe thead th {\n",
       "        text-align: right;\n",
       "    }\n",
       "</style>\n",
       "<table border=\"1\" class=\"dataframe\">\n",
       "  <thead>\n",
       "    <tr style=\"text-align: right;\">\n",
       "      <th></th>\n",
       "      <th>0</th>\n",
       "    </tr>\n",
       "  </thead>\n",
       "  <tbody>\n",
       "    <tr>\n",
       "      <th>45</th>\n",
       "      <td>0</td>\n",
       "    </tr>\n",
       "    <tr>\n",
       "      <th>46</th>\n",
       "      <td>0</td>\n",
       "    </tr>\n",
       "    <tr>\n",
       "      <th>47</th>\n",
       "      <td>37</td>\n",
       "    </tr>\n",
       "    <tr>\n",
       "      <th>48</th>\n",
       "      <td>57</td>\n",
       "    </tr>\n",
       "    <tr>\n",
       "      <th>49</th>\n",
       "      <td>49</td>\n",
       "    </tr>\n",
       "  </tbody>\n",
       "</table>\n",
       "</div>"
      ],
      "text/plain": [
       "     0\n",
       "45   0\n",
       "46   0\n",
       "47  37\n",
       "48  57\n",
       "49  49"
      ]
     },
     "execution_count": 19,
     "metadata": {},
     "output_type": "execute_result"
    }
   ],
   "source": [
    "#manipulasi data film yang tidak memiliki data Metascore\n",
    "metascore = pd.DataFrame(temp_2)\n",
    "metascore.loc[0.5] = 0\n",
    "metascore = metascore.sort_index().reset_index(drop = True)\n",
    "metascore.loc[3.5] = 0\n",
    "metascore = metascore.sort_index().reset_index(drop = True)\n",
    "metascore.loc[5.5] = 0\n",
    "metascore = metascore.sort_index().reset_index(drop = True)\n",
    "metascore.loc[7.5] = 0\n",
    "metascore = metascore.sort_index().reset_index(drop = True)\n",
    "metascore.loc[11.5] = 0\n",
    "metascore = metascore.sort_index().reset_index(drop = True)\n",
    "metascore.loc[12.5] = 0\n",
    "metascore = metascore.sort_index().reset_index(drop = True)\n",
    "metascore.loc[13.5] = 0\n",
    "metascore = metascore.sort_index().reset_index(drop = True)\n",
    "metascore.loc[17.5] = 0\n",
    "metascore = metascore.sort_index().reset_index(drop = True)\n",
    "metascore.loc[21.5] = 0\n",
    "metascore = metascore.sort_index().reset_index(drop = True)\n",
    "metascore.loc[25.5] = 0\n",
    "metascore = metascore.sort_index().reset_index(drop = True)\n",
    "metascore.loc[26.5] = 0\n",
    "metascore = metascore.sort_index().reset_index(drop = True)\n",
    "metascore.loc[27.5] = 0\n",
    "metascore = metascore.sort_index().reset_index(drop = True)\n",
    "metascore.loc[35.5] = 0\n",
    "metascore = metascore.sort_index().reset_index(drop = True)\n",
    "metascore.loc[36.5] = 0\n",
    "metascore = metascore.sort_index().reset_index(drop = True)\n",
    "metascore.loc[41.5] = 0\n",
    "metascore = metascore.sort_index().reset_index(drop = True)\n",
    "metascore.loc[42.5] = 0\n",
    "metascore = metascore.sort_index().reset_index(drop = True)\n",
    "metascore.loc[44.5] = 0\n",
    "metascore = metascore.sort_index().reset_index(drop = True)\n",
    "metascore.loc[45.5] = 0\n",
    "metascore = metascore.sort_index().reset_index(drop = True)\n",
    "metascore.tail()"
   ]
  },
  {
   "cell_type": "markdown",
   "metadata": {},
   "source": [
    "#### Setelah seluruh varibel membentuk dataframe, seluruh data digabungkan kedalam satu dataframe yang sama"
   ]
  },
  {
   "cell_type": "code",
   "execution_count": 20,
   "metadata": {},
   "outputs": [
    {
     "data": {
      "text/html": [
       "<div>\n",
       "<style scoped>\n",
       "    .dataframe tbody tr th:only-of-type {\n",
       "        vertical-align: middle;\n",
       "    }\n",
       "\n",
       "    .dataframe tbody tr th {\n",
       "        vertical-align: top;\n",
       "    }\n",
       "\n",
       "    .dataframe thead th {\n",
       "        text-align: right;\n",
       "    }\n",
       "</style>\n",
       "<table border=\"1\" class=\"dataframe\">\n",
       "  <thead>\n",
       "    <tr style=\"text-align: right;\">\n",
       "      <th></th>\n",
       "      <th>Title</th>\n",
       "      <th>Ratings</th>\n",
       "      <th>Votes</th>\n",
       "      <th>Metascore</th>\n",
       "    </tr>\n",
       "  </thead>\n",
       "  <tbody>\n",
       "    <tr>\n",
       "      <th>0</th>\n",
       "      <td>The Black Phone</td>\n",
       "      <td>7.3</td>\n",
       "      <td>23,638</td>\n",
       "      <td>65</td>\n",
       "    </tr>\n",
       "    <tr>\n",
       "      <th>1</th>\n",
       "      <td>Only Murders in the Building</td>\n",
       "      <td>8.1</td>\n",
       "      <td>73,466</td>\n",
       "      <td>0</td>\n",
       "    </tr>\n",
       "    <tr>\n",
       "      <th>2</th>\n",
       "      <td>Sing 2</td>\n",
       "      <td>7.4</td>\n",
       "      <td>55,513</td>\n",
       "      <td>49</td>\n",
       "    </tr>\n",
       "    <tr>\n",
       "      <th>3</th>\n",
       "      <td>Spider-Man: No Way Home</td>\n",
       "      <td>8.3</td>\n",
       "      <td>672,785</td>\n",
       "      <td>71</td>\n",
       "    </tr>\n",
       "    <tr>\n",
       "      <th>4</th>\n",
       "      <td>1883</td>\n",
       "      <td>8.8</td>\n",
       "      <td>56,031</td>\n",
       "      <td>0</td>\n",
       "    </tr>\n",
       "    <tr>\n",
       "      <th>5</th>\n",
       "      <td>No Time to Die</td>\n",
       "      <td>7.3</td>\n",
       "      <td>372,829</td>\n",
       "      <td>68</td>\n",
       "    </tr>\n",
       "    <tr>\n",
       "      <th>6</th>\n",
       "      <td>Superman &amp; Lois</td>\n",
       "      <td>7.8</td>\n",
       "      <td>30,538</td>\n",
       "      <td>0</td>\n",
       "    </tr>\n",
       "    <tr>\n",
       "      <th>7</th>\n",
       "      <td>Last Night in Soho</td>\n",
       "      <td>7.1</td>\n",
       "      <td>113,025</td>\n",
       "      <td>65</td>\n",
       "    </tr>\n",
       "    <tr>\n",
       "      <th>8</th>\n",
       "      <td>Hacks</td>\n",
       "      <td>8.2</td>\n",
       "      <td>25,151</td>\n",
       "      <td>0</td>\n",
       "    </tr>\n",
       "    <tr>\n",
       "      <th>9</th>\n",
       "      <td>Dune: Part One</td>\n",
       "      <td>8.0</td>\n",
       "      <td>587,813</td>\n",
       "      <td>74</td>\n",
       "    </tr>\n",
       "    <tr>\n",
       "      <th>10</th>\n",
       "      <td>Ghostbusters: Afterlife</td>\n",
       "      <td>7.1</td>\n",
       "      <td>161,888</td>\n",
       "      <td>45</td>\n",
       "    </tr>\n",
       "    <tr>\n",
       "      <th>11</th>\n",
       "      <td>Mad God</td>\n",
       "      <td>6.8</td>\n",
       "      <td>4,639</td>\n",
       "      <td>80</td>\n",
       "    </tr>\n",
       "    <tr>\n",
       "      <th>12</th>\n",
       "      <td>The Book of Boba Fett</td>\n",
       "      <td>7.3</td>\n",
       "      <td>133,763</td>\n",
       "      <td>0</td>\n",
       "    </tr>\n",
       "    <tr>\n",
       "      <th>13</th>\n",
       "      <td>You Don't Know Me</td>\n",
       "      <td>6.8</td>\n",
       "      <td>3,916</td>\n",
       "      <td>0</td>\n",
       "    </tr>\n",
       "    <tr>\n",
       "      <th>14</th>\n",
       "      <td>WandaVision</td>\n",
       "      <td>7.9</td>\n",
       "      <td>301,220</td>\n",
       "      <td>0</td>\n",
       "    </tr>\n",
       "    <tr>\n",
       "      <th>15</th>\n",
       "      <td>Pleasure</td>\n",
       "      <td>6.3</td>\n",
       "      <td>12,167</td>\n",
       "      <td>75</td>\n",
       "    </tr>\n",
       "    <tr>\n",
       "      <th>16</th>\n",
       "      <td>Old</td>\n",
       "      <td>5.8</td>\n",
       "      <td>109,318</td>\n",
       "      <td>55</td>\n",
       "    </tr>\n",
       "    <tr>\n",
       "      <th>17</th>\n",
       "      <td>Eternals</td>\n",
       "      <td>6.3</td>\n",
       "      <td>318,232</td>\n",
       "      <td>52</td>\n",
       "    </tr>\n",
       "    <tr>\n",
       "      <th>18</th>\n",
       "      <td>Invincible</td>\n",
       "      <td>8.7</td>\n",
       "      <td>121,073</td>\n",
       "      <td>0</td>\n",
       "    </tr>\n",
       "    <tr>\n",
       "      <th>19</th>\n",
       "      <td>House of Gucci</td>\n",
       "      <td>6.6</td>\n",
       "      <td>110,717</td>\n",
       "      <td>59</td>\n",
       "    </tr>\n",
       "    <tr>\n",
       "      <th>20</th>\n",
       "      <td>Resident Evil: Welcome to Raccoon City</td>\n",
       "      <td>5.2</td>\n",
       "      <td>46,919</td>\n",
       "      <td>44</td>\n",
       "    </tr>\n",
       "    <tr>\n",
       "      <th>21</th>\n",
       "      <td>Licorice Pizza</td>\n",
       "      <td>7.3</td>\n",
       "      <td>88,999</td>\n",
       "      <td>90</td>\n",
       "    </tr>\n",
       "    <tr>\n",
       "      <th>22</th>\n",
       "      <td>Ojing-eo geim</td>\n",
       "      <td>8.0</td>\n",
       "      <td>424,858</td>\n",
       "      <td>0</td>\n",
       "    </tr>\n",
       "    <tr>\n",
       "      <th>23</th>\n",
       "      <td>Verdens verste menneske</td>\n",
       "      <td>7.9</td>\n",
       "      <td>50,606</td>\n",
       "      <td>90</td>\n",
       "    </tr>\n",
       "    <tr>\n",
       "      <th>24</th>\n",
       "      <td>Free Guy</td>\n",
       "      <td>7.1</td>\n",
       "      <td>348,746</td>\n",
       "      <td>62</td>\n",
       "    </tr>\n",
       "    <tr>\n",
       "      <th>25</th>\n",
       "      <td>Encanto</td>\n",
       "      <td>7.2</td>\n",
       "      <td>205,295</td>\n",
       "      <td>75</td>\n",
       "    </tr>\n",
       "    <tr>\n",
       "      <th>26</th>\n",
       "      <td>Yellowjackets</td>\n",
       "      <td>7.9</td>\n",
       "      <td>40,082</td>\n",
       "      <td>0</td>\n",
       "    </tr>\n",
       "    <tr>\n",
       "      <th>27</th>\n",
       "      <td>Arcane: League of Legends</td>\n",
       "      <td>9.0</td>\n",
       "      <td>184,450</td>\n",
       "      <td>0</td>\n",
       "    </tr>\n",
       "    <tr>\n",
       "      <th>28</th>\n",
       "      <td>Loki</td>\n",
       "      <td>8.2</td>\n",
       "      <td>291,035</td>\n",
       "      <td>0</td>\n",
       "    </tr>\n",
       "    <tr>\n",
       "      <th>29</th>\n",
       "      <td>The Card Counter</td>\n",
       "      <td>6.2</td>\n",
       "      <td>29,178</td>\n",
       "      <td>77</td>\n",
       "    </tr>\n",
       "    <tr>\n",
       "      <th>30</th>\n",
       "      <td>The Matrix Resurrections</td>\n",
       "      <td>5.7</td>\n",
       "      <td>234,148</td>\n",
       "      <td>63</td>\n",
       "    </tr>\n",
       "    <tr>\n",
       "      <th>31</th>\n",
       "      <td>Operation Mincemeat</td>\n",
       "      <td>6.6</td>\n",
       "      <td>17,506</td>\n",
       "      <td>65</td>\n",
       "    </tr>\n",
       "    <tr>\n",
       "      <th>32</th>\n",
       "      <td>Shang-Chi and the Legend of the Ten Rings</td>\n",
       "      <td>7.4</td>\n",
       "      <td>360,957</td>\n",
       "      <td>71</td>\n",
       "    </tr>\n",
       "    <tr>\n",
       "      <th>33</th>\n",
       "      <td>The King's Man</td>\n",
       "      <td>6.3</td>\n",
       "      <td>133,361</td>\n",
       "      <td>44</td>\n",
       "    </tr>\n",
       "    <tr>\n",
       "      <th>34</th>\n",
       "      <td>Marcel the Shell with Shoes On</td>\n",
       "      <td>8.2</td>\n",
       "      <td>629</td>\n",
       "      <td>81</td>\n",
       "    </tr>\n",
       "    <tr>\n",
       "      <th>35</th>\n",
       "      <td>Don't Look Up</td>\n",
       "      <td>7.2</td>\n",
       "      <td>512,231</td>\n",
       "      <td>49</td>\n",
       "    </tr>\n",
       "    <tr>\n",
       "      <th>36</th>\n",
       "      <td>Walker</td>\n",
       "      <td>5.9</td>\n",
       "      <td>11,118</td>\n",
       "      <td>0</td>\n",
       "    </tr>\n",
       "    <tr>\n",
       "      <th>37</th>\n",
       "      <td>The Outlaws</td>\n",
       "      <td>7.6</td>\n",
       "      <td>8,942</td>\n",
       "      <td>0</td>\n",
       "    </tr>\n",
       "    <tr>\n",
       "      <th>38</th>\n",
       "      <td>The Suicide Squad</td>\n",
       "      <td>7.2</td>\n",
       "      <td>334,792</td>\n",
       "      <td>72</td>\n",
       "    </tr>\n",
       "    <tr>\n",
       "      <th>39</th>\n",
       "      <td>The French Dispatch</td>\n",
       "      <td>7.2</td>\n",
       "      <td>110,700</td>\n",
       "      <td>74</td>\n",
       "    </tr>\n",
       "    <tr>\n",
       "      <th>40</th>\n",
       "      <td>CODA</td>\n",
       "      <td>8.0</td>\n",
       "      <td>116,268</td>\n",
       "      <td>74</td>\n",
       "    </tr>\n",
       "    <tr>\n",
       "      <th>41</th>\n",
       "      <td>Nightmare Alley</td>\n",
       "      <td>7.0</td>\n",
       "      <td>129,516</td>\n",
       "      <td>70</td>\n",
       "    </tr>\n",
       "    <tr>\n",
       "      <th>42</th>\n",
       "      <td>Dopesick</td>\n",
       "      <td>8.6</td>\n",
       "      <td>48,884</td>\n",
       "      <td>0</td>\n",
       "    </tr>\n",
       "    <tr>\n",
       "      <th>43</th>\n",
       "      <td>Joe Pickett</td>\n",
       "      <td>7.5</td>\n",
       "      <td>1,910</td>\n",
       "      <td>0</td>\n",
       "    </tr>\n",
       "    <tr>\n",
       "      <th>44</th>\n",
       "      <td>The Last Duel</td>\n",
       "      <td>7.4</td>\n",
       "      <td>145,074</td>\n",
       "      <td>67</td>\n",
       "    </tr>\n",
       "    <tr>\n",
       "      <th>45</th>\n",
       "      <td>Physical</td>\n",
       "      <td>7.3</td>\n",
       "      <td>8,227</td>\n",
       "      <td>0</td>\n",
       "    </tr>\n",
       "    <tr>\n",
       "      <th>46</th>\n",
       "      <td>The Wheel of Time</td>\n",
       "      <td>7.1</td>\n",
       "      <td>96,817</td>\n",
       "      <td>0</td>\n",
       "    </tr>\n",
       "    <tr>\n",
       "      <th>47</th>\n",
       "      <td>Red Notice</td>\n",
       "      <td>6.3</td>\n",
       "      <td>262,425</td>\n",
       "      <td>37</td>\n",
       "    </tr>\n",
       "    <tr>\n",
       "      <th>48</th>\n",
       "      <td>Wrath of Man</td>\n",
       "      <td>7.1</td>\n",
       "      <td>166,600</td>\n",
       "      <td>57</td>\n",
       "    </tr>\n",
       "    <tr>\n",
       "      <th>49</th>\n",
       "      <td>Venom: Let There Be Carnage</td>\n",
       "      <td>5.9</td>\n",
       "      <td>209,469</td>\n",
       "      <td>49</td>\n",
       "    </tr>\n",
       "  </tbody>\n",
       "</table>\n",
       "</div>"
      ],
      "text/plain": [
       "                                        Title Ratings    Votes Metascore\n",
       "0                             The Black Phone     7.3   23,638        65\n",
       "1                Only Murders in the Building     8.1   73,466         0\n",
       "2                                      Sing 2     7.4   55,513        49\n",
       "3                     Spider-Man: No Way Home     8.3  672,785        71\n",
       "4                                        1883     8.8   56,031         0\n",
       "5                              No Time to Die     7.3  372,829        68\n",
       "6                             Superman & Lois     7.8   30,538         0\n",
       "7                          Last Night in Soho     7.1  113,025        65\n",
       "8                                       Hacks     8.2   25,151         0\n",
       "9                              Dune: Part One     8.0  587,813        74\n",
       "10                    Ghostbusters: Afterlife     7.1  161,888        45\n",
       "11                                    Mad God     6.8    4,639        80\n",
       "12                      The Book of Boba Fett     7.3  133,763         0\n",
       "13                          You Don't Know Me     6.8    3,916         0\n",
       "14                                WandaVision     7.9  301,220         0\n",
       "15                                   Pleasure     6.3   12,167        75\n",
       "16                                        Old     5.8  109,318        55\n",
       "17                                   Eternals     6.3  318,232        52\n",
       "18                                 Invincible     8.7  121,073         0\n",
       "19                             House of Gucci     6.6  110,717        59\n",
       "20     Resident Evil: Welcome to Raccoon City     5.2   46,919        44\n",
       "21                             Licorice Pizza     7.3   88,999        90\n",
       "22                              Ojing-eo geim     8.0  424,858         0\n",
       "23                    Verdens verste menneske     7.9   50,606        90\n",
       "24                                   Free Guy     7.1  348,746        62\n",
       "25                                    Encanto     7.2  205,295        75\n",
       "26                              Yellowjackets     7.9   40,082         0\n",
       "27                  Arcane: League of Legends     9.0  184,450         0\n",
       "28                                       Loki     8.2  291,035         0\n",
       "29                           The Card Counter     6.2   29,178        77\n",
       "30                   The Matrix Resurrections     5.7  234,148        63\n",
       "31                        Operation Mincemeat     6.6   17,506        65\n",
       "32  Shang-Chi and the Legend of the Ten Rings     7.4  360,957        71\n",
       "33                             The King's Man     6.3  133,361        44\n",
       "34             Marcel the Shell with Shoes On     8.2      629        81\n",
       "35                              Don't Look Up     7.2  512,231        49\n",
       "36                                     Walker     5.9   11,118         0\n",
       "37                                The Outlaws     7.6    8,942         0\n",
       "38                          The Suicide Squad     7.2  334,792        72\n",
       "39                        The French Dispatch     7.2  110,700        74\n",
       "40                                       CODA     8.0  116,268        74\n",
       "41                            Nightmare Alley     7.0  129,516        70\n",
       "42                                   Dopesick     8.6   48,884         0\n",
       "43                                Joe Pickett     7.5    1,910         0\n",
       "44                              The Last Duel     7.4  145,074        67\n",
       "45                                   Physical     7.3    8,227         0\n",
       "46                          The Wheel of Time     7.1   96,817         0\n",
       "47                                 Red Notice     6.3  262,425        37\n",
       "48                               Wrath of Man     7.1  166,600        57\n",
       "49                Venom: Let There Be Carnage     5.9  209,469        49"
      ]
     },
     "execution_count": 20,
     "metadata": {},
     "output_type": "execute_result"
    }
   ],
   "source": [
    "#menggabungkan data Metscore ke imdb_data\n",
    "imdb_data['Metascore'] = metascore\n",
    "imdb_data"
   ]
  },
  {
   "cell_type": "markdown",
   "metadata": {},
   "source": [
    "#### Dataframe akhir kemudian dirapikan dari sisi jenis data agar dapat dilakukan visualisasi"
   ]
  },
  {
   "cell_type": "code",
   "execution_count": 21,
   "metadata": {},
   "outputs": [
    {
     "data": {
      "text/html": [
       "<div>\n",
       "<style scoped>\n",
       "    .dataframe tbody tr th:only-of-type {\n",
       "        vertical-align: middle;\n",
       "    }\n",
       "\n",
       "    .dataframe tbody tr th {\n",
       "        vertical-align: top;\n",
       "    }\n",
       "\n",
       "    .dataframe thead th {\n",
       "        text-align: right;\n",
       "    }\n",
       "</style>\n",
       "<table border=\"1\" class=\"dataframe\">\n",
       "  <thead>\n",
       "    <tr style=\"text-align: right;\">\n",
       "      <th></th>\n",
       "      <th>Title</th>\n",
       "      <th>Ratings</th>\n",
       "      <th>Votes</th>\n",
       "      <th>Metascore</th>\n",
       "    </tr>\n",
       "  </thead>\n",
       "  <tbody>\n",
       "    <tr>\n",
       "      <th>0</th>\n",
       "      <td>The Black Phone</td>\n",
       "      <td>7.3</td>\n",
       "      <td>23638</td>\n",
       "      <td>65</td>\n",
       "    </tr>\n",
       "    <tr>\n",
       "      <th>1</th>\n",
       "      <td>Only Murders in the Building</td>\n",
       "      <td>8.1</td>\n",
       "      <td>73466</td>\n",
       "      <td>0</td>\n",
       "    </tr>\n",
       "    <tr>\n",
       "      <th>2</th>\n",
       "      <td>Sing 2</td>\n",
       "      <td>7.4</td>\n",
       "      <td>55513</td>\n",
       "      <td>49</td>\n",
       "    </tr>\n",
       "    <tr>\n",
       "      <th>3</th>\n",
       "      <td>Spider-Man: No Way Home</td>\n",
       "      <td>8.3</td>\n",
       "      <td>672785</td>\n",
       "      <td>71</td>\n",
       "    </tr>\n",
       "    <tr>\n",
       "      <th>4</th>\n",
       "      <td>1883</td>\n",
       "      <td>8.8</td>\n",
       "      <td>56031</td>\n",
       "      <td>0</td>\n",
       "    </tr>\n",
       "  </tbody>\n",
       "</table>\n",
       "</div>"
      ],
      "text/plain": [
       "                          Title Ratings   Votes Metascore\n",
       "0               The Black Phone     7.3   23638        65\n",
       "1  Only Murders in the Building     8.1   73466         0\n",
       "2                        Sing 2     7.4   55513        49\n",
       "3       Spider-Man: No Way Home     8.3  672785        71\n",
       "4                          1883     8.8   56031         0"
      ]
     },
     "execution_count": 21,
     "metadata": {},
     "output_type": "execute_result"
    }
   ],
   "source": [
    "#Menghilangkan tanda koma pada data Votes\n",
    "imdb_data['Votes'] = imdb_data['Votes'].str.replace(',','')\n",
    "imdb_data.head()"
   ]
  },
  {
   "cell_type": "code",
   "execution_count": 22,
   "metadata": {
    "scrolled": true
   },
   "outputs": [
    {
     "data": {
      "text/plain": [
       "Title        object\n",
       "Ratings      object\n",
       "Votes        object\n",
       "Metascore    object\n",
       "dtype: object"
      ]
     },
     "execution_count": 22,
     "metadata": {},
     "output_type": "execute_result"
    }
   ],
   "source": [
    "#Sebelum membuat visualisasi dilakukan pengecekan jenis data\n",
    "imdb_data.dtypes"
   ]
  },
  {
   "cell_type": "code",
   "execution_count": 23,
   "metadata": {
    "scrolled": true
   },
   "outputs": [
    {
     "data": {
      "text/plain": [
       "Title         object\n",
       "Ratings      float64\n",
       "Votes          int64\n",
       "Metascore      int64\n",
       "dtype: object"
      ]
     },
     "execution_count": 23,
     "metadata": {},
     "output_type": "execute_result"
    }
   ],
   "source": [
    "#Beberapa data yang perlu diubah adalah Ratings, Votes, dan Metascore.\n",
    "imdb_data['Ratings'] = imdb_data['Ratings'].astype('float64')\n",
    "imdb_data['Votes'] = imdb_data['Votes'].astype('int64')\n",
    "imdb_data['Metascore'] = imdb_data['Metascore'].astype('int64')\n",
    "imdb_data.dtypes"
   ]
  },
  {
   "cell_type": "code",
   "execution_count": 24,
   "metadata": {},
   "outputs": [
    {
     "data": {
      "text/html": [
       "<div>\n",
       "<style scoped>\n",
       "    .dataframe tbody tr th:only-of-type {\n",
       "        vertical-align: middle;\n",
       "    }\n",
       "\n",
       "    .dataframe tbody tr th {\n",
       "        vertical-align: top;\n",
       "    }\n",
       "\n",
       "    .dataframe thead th {\n",
       "        text-align: right;\n",
       "    }\n",
       "</style>\n",
       "<table border=\"1\" class=\"dataframe\">\n",
       "  <thead>\n",
       "    <tr style=\"text-align: right;\">\n",
       "      <th></th>\n",
       "      <th>Ratings</th>\n",
       "      <th>Votes</th>\n",
       "      <th>Metascore</th>\n",
       "    </tr>\n",
       "    <tr>\n",
       "      <th>Title</th>\n",
       "      <th></th>\n",
       "      <th></th>\n",
       "      <th></th>\n",
       "    </tr>\n",
       "  </thead>\n",
       "  <tbody>\n",
       "    <tr>\n",
       "      <th>The Black Phone</th>\n",
       "      <td>7.3</td>\n",
       "      <td>23638</td>\n",
       "      <td>65</td>\n",
       "    </tr>\n",
       "    <tr>\n",
       "      <th>Only Murders in the Building</th>\n",
       "      <td>8.1</td>\n",
       "      <td>73466</td>\n",
       "      <td>0</td>\n",
       "    </tr>\n",
       "    <tr>\n",
       "      <th>Sing 2</th>\n",
       "      <td>7.4</td>\n",
       "      <td>55513</td>\n",
       "      <td>49</td>\n",
       "    </tr>\n",
       "    <tr>\n",
       "      <th>Spider-Man: No Way Home</th>\n",
       "      <td>8.3</td>\n",
       "      <td>672785</td>\n",
       "      <td>71</td>\n",
       "    </tr>\n",
       "    <tr>\n",
       "      <th>1883</th>\n",
       "      <td>8.8</td>\n",
       "      <td>56031</td>\n",
       "      <td>0</td>\n",
       "    </tr>\n",
       "  </tbody>\n",
       "</table>\n",
       "</div>"
      ],
      "text/plain": [
       "                              Ratings   Votes  Metascore\n",
       "Title                                                   \n",
       "The Black Phone                   7.3   23638         65\n",
       "Only Murders in the Building      8.1   73466          0\n",
       "Sing 2                            7.4   55513         49\n",
       "Spider-Man: No Way Home           8.3  672785         71\n",
       "1883                              8.8   56031          0"
      ]
     },
     "execution_count": 24,
     "metadata": {},
     "output_type": "execute_result"
    }
   ],
   "source": [
    "#menjadikan kolom Title sebagai index\n",
    "imdb_data = imdb_data.set_index('Title')\n",
    "imdb_data.head()"
   ]
  },
  {
   "cell_type": "markdown",
   "metadata": {},
   "source": [
    "## Analysis and Conclusion\n",
    "\n",
    "Pada data yang diambil ada 3 variabel yang dapat digunakan sebagai ukuran popularitas, yakni: Ratings, Votes dan Metascore. Untuk masing-masing variabel dibuat visualisasinya berdasarkan 7 film dengan nilai tertinggi pada masing-masing variabel ukuran yang telah disebutkan sebelumnya."
   ]
  },
  {
   "cell_type": "code",
   "execution_count": 25,
   "metadata": {
    "ExecuteTime": {
     "end_time": "2020-01-13T05:20:56.208237Z",
     "start_time": "2020-01-13T05:20:56.076043Z"
    },
    "scrolled": true
   },
   "outputs": [
    {
     "data": {
      "text/plain": [
       "<AxesSubplot:xlabel='Title'>"
      ]
     },
     "execution_count": 25,
     "metadata": {},
     "output_type": "execute_result"
    },
    {
     "data": {
      "image/png": "[encoded data removed]",
      "text/plain": [
       "<Figure size 720x360 with 1 Axes>"
      ]
     },
     "metadata": {
      "needs_background": "light"
     },
     "output_type": "display_data"
    }
   ],
   "source": [
    "#7 film paling populer di tahun 2021 berdasarkan Ratings\n",
    "imdb_data.sort_values('Ratings', ascending=False)['Ratings'].head(7).plot.bar(figsize=(10, 5))"
   ]
  },
  {
   "cell_type": "code",
   "execution_count": 26,
   "metadata": {
    "scrolled": true
   },
   "outputs": [
    {
     "data": {
      "text/plain": [
       "<AxesSubplot:xlabel='Title'>"
      ]
     },
     "execution_count": 26,
     "metadata": {},
     "output_type": "execute_result"
    },
    {
     "data": {
      "image/png": "[encoded data removed]",
      "text/plain": [
       "<Figure size 720x360 with 1 Axes>"
      ]
     },
     "metadata": {
      "needs_background": "light"
     },
     "output_type": "display_data"
    }
   ],
   "source": [
    "#7 film paling populer di tahun 2021 berdasarkan Votes\n",
    "imdb_data.sort_values('Votes', ascending=False)['Votes'].head(7).plot.bar(figsize=(10, 5))"
   ]
  },
  {
   "cell_type": "code",
   "execution_count": 27,
   "metadata": {
    "scrolled": false
   },
   "outputs": [
    {
     "data": {
      "text/plain": [
       "<AxesSubplot:xlabel='Title'>"
      ]
     },
     "execution_count": 27,
     "metadata": {},
     "output_type": "execute_result"
    },
    {
     "data": {
      "image/png": "[encoded data removed]",
      "text/plain": [
       "<Figure size 720x360 with 1 Axes>"
      ]
     },
     "metadata": {
      "needs_background": "light"
     },
     "output_type": "display_data"
    }
   ],
   "source": [
    "#7 film paling populer di tahun 2021 berdasarkan Metascore\n",
    "imdb_data.sort_values('Metascore', ascending=False)['Metascore'].head(7).plot.bar(figsize=(10, 5))"
   ]
  },
  {
   "cell_type": "markdown",
   "metadata": {},
   "source": [
    "### Kesimpulan\n",
    "\n",
    "Ketiga variabel Metascore, Ratings, dan Votes dapat menjadi ukuran dari popularitas bergantung kepada perspektif apa yang ingin dilihat terkait kata popularitas itu sendiri.\n",
    "\n",
    "Pengertian Metascore adalah angka yang dihasilkan dari review atau kritik yang diterima oleh sebuah film. Dari angka ini dapat juga disimpulakan sentimen atau daya tarik sebuah film yang nantinya akan mendukung tingkat popularitasnya. Sehingga film yang tinggi secara angka metascore itu menunjukkan popularitas sentimen namun menurut user atau kritikus.\n",
    "\n",
    "Pengertian Ratings adalah angka yang diberikan oleh IMDB berdasarkan faktor-faktor ukurannya, yang salah satunya adalah ukuran banyaknya penonton. Dari angka ini juga dapat disimpulkan film yang paling berhasil termasuk untuk sisi popularitasnya adalah film dengan Rating yang tinggi.\n",
    "\n",
    "Pengertian untuk Votes adalahbanyaknya orang yang berkontribusi dalam memberikan penilaian. Dari angka ini juga bisa disimpulkan, semakin tinggi nilai votenya maka semakin banyak orang yang mngenal film tersebut sehingga mau mberikan suaranya."
   ]
  }
 ],
 "metadata": {
  "kernelspec": {
   "display_name": "beauty_soup",
   "language": "python",
   "name": "beauty_soup"
  },
  "language_info": {
   "codemirror_mode": {
    "name": "ipython",
    "version": 3
   },
   "file_extension": ".py",
   "mimetype": "text/x-python",
   "name": "python",
   "nbconvert_exporter": "python",
   "pygments_lexer": "ipython3",
   "version": "3.8.13"
  }
 },
 "nbformat": 4,
 "nbformat_minor": 2
}
